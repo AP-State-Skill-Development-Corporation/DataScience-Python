{
 "cells": [
  {
   "cell_type": "markdown",
   "id": "449d8fa6",
   "metadata": {},
   "source": [
    "# Heading1\n",
    "## Heading2\n",
    "### Heading3\n",
    "#### Heading4\n",
    "##### Heading5\n",
    "###### Heading6"
   ]
  },
  {
   "cell_type": "markdown",
   "id": "c16c4b7e",
   "metadata": {},
   "source": [
    "**Bold**    \n",
    "*Italic*   \n",
    "***Bold and Italic***  "
   ]
  },
  {
   "cell_type": "markdown",
   "id": "dec17c18",
   "metadata": {},
   "source": [
    "##### Ordered list\n",
    "***Data Science***\n",
    "1. Numpy\n",
    "2. Pandas\n",
    "3. Visualization  \n",
    "    A. Matplotlib   \n",
    "    B. Seaborn  "
   ]
  },
  {
   "cell_type": "markdown",
   "id": "930a8331",
   "metadata": {},
   "source": [
    "#### Unordered list\n",
    "- CSE\n",
    "- ECE\n",
    "    * MECH\n",
    "    * civil"
   ]
  },
  {
   "cell_type": "markdown",
   "id": "20cb9a94",
   "metadata": {},
   "source": [
    "#### To insert a link\n",
    "\n",
    "[APSSDC](www.apssdc.in)"
   ]
  },
  {
   "cell_type": "markdown",
   "id": "456e4f1a",
   "metadata": {},
   "source": [
    "#### To Insert an image\n",
    "![image](https://escalierssolution.com/wp-content/uploads/2019/11/Python-Programming-Language-in-Data-Science.png)"
   ]
  },
  {
   "cell_type": "markdown",
   "id": "f5e0f280",
   "metadata": {},
   "source": [
    "### To insert an image locally\n",
    "![image_local](python.img)"
   ]
  },
  {
   "cell_type": "markdown",
   "id": "5d068cd3",
   "metadata": {},
   "source": [
    "#### Python "
   ]
  },
  {
   "cell_type": "markdown",
   "id": "ec9c10b3",
   "metadata": {},
   "source": [
    "### Coment in python\n"
   ]
  },
  {
   "cell_type": "code",
   "execution_count": 3,
   "id": "0a1efbfa",
   "metadata": {},
   "outputs": [],
   "source": [
    "#non executable statement(comment)"
   ]
  },
  {
   "cell_type": "code",
   "execution_count": null,
   "id": "1a56881c",
   "metadata": {},
   "outputs": [],
   "source": [
    "Variable-- used to store the data or information\n",
    "- should not use keywords as variables names\n",
    "- should not use any spaces\n",
    "- should not start with the numbers/integers"
   ]
  },
  {
   "cell_type": "code",
   "execution_count": 4,
   "id": "a271fa8f",
   "metadata": {},
   "outputs": [
    {
     "data": {
      "text/plain": [
       "10"
      ]
     },
     "execution_count": 4,
     "metadata": {},
     "output_type": "execute_result"
    }
   ],
   "source": [
    "10"
   ]
  },
  {
   "cell_type": "code",
   "execution_count": 5,
   "id": "80f29295",
   "metadata": {},
   "outputs": [
    {
     "data": {
      "text/plain": [
       "20"
      ]
     },
     "execution_count": 5,
     "metadata": {},
     "output_type": "execute_result"
    }
   ],
   "source": [
    "20"
   ]
  },
  {
   "cell_type": "code",
   "execution_count": 6,
   "id": "7fd3d23c",
   "metadata": {},
   "outputs": [],
   "source": [
    "a=10"
   ]
  },
  {
   "cell_type": "code",
   "execution_count": 7,
   "id": "9693e24e",
   "metadata": {},
   "outputs": [
    {
     "data": {
      "text/plain": [
       "10"
      ]
     },
     "execution_count": 7,
     "metadata": {},
     "output_type": "execute_result"
    }
   ],
   "source": [
    "a"
   ]
  },
  {
   "cell_type": "code",
   "execution_count": 8,
   "id": "22fe7e95",
   "metadata": {},
   "outputs": [],
   "source": [
    "b=10"
   ]
  },
  {
   "cell_type": "code",
   "execution_count": 9,
   "id": "361e6209",
   "metadata": {},
   "outputs": [
    {
     "data": {
      "text/plain": [
       "10"
      ]
     },
     "execution_count": 9,
     "metadata": {},
     "output_type": "execute_result"
    }
   ],
   "source": [
    "b\n"
   ]
  },
  {
   "cell_type": "code",
   "execution_count": 10,
   "id": "b484ac79",
   "metadata": {},
   "outputs": [
    {
     "ename": "SyntaxError",
     "evalue": "invalid syntax (<ipython-input-10-442bddfef1a1>, line 1)",
     "output_type": "error",
     "traceback": [
      "\u001b[1;36m  File \u001b[1;32m\"<ipython-input-10-442bddfef1a1>\"\u001b[1;36m, line \u001b[1;32m1\u001b[0m\n\u001b[1;33m    1a=10\u001b[0m\n\u001b[1;37m     ^\u001b[0m\n\u001b[1;31mSyntaxError\u001b[0m\u001b[1;31m:\u001b[0m invalid syntax\n"
     ]
    }
   ],
   "source": [
    "1a=10"
   ]
  },
  {
   "cell_type": "code",
   "execution_count": 11,
   "id": "83efb17f",
   "metadata": {},
   "outputs": [],
   "source": [
    "a1=10"
   ]
  },
  {
   "cell_type": "code",
   "execution_count": 13,
   "id": "e8a0be71",
   "metadata": {},
   "outputs": [],
   "source": [
    "_a=10"
   ]
  },
  {
   "cell_type": "code",
   "execution_count": null,
   "id": "8189ec1b",
   "metadata": {},
   "outputs": [],
   "source": []
  }
 ],
 "metadata": {
  "kernelspec": {
   "display_name": "Python 3",
   "language": "python",
   "name": "python3"
  },
  "language_info": {
   "codemirror_mode": {
    "name": "ipython",
    "version": 3
   },
   "file_extension": ".py",
   "mimetype": "text/x-python",
   "name": "python",
   "nbconvert_exporter": "python",
   "pygments_lexer": "ipython3",
   "version": "3.8.8"
  }
 },
 "nbformat": 4,
 "nbformat_minor": 5
}
